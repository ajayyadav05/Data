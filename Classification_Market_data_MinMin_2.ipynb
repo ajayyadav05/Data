{
  "nbformat": 4,
  "nbformat_minor": 0,
  "metadata": {
    "colab": {
      "name": "Classification Market data MinMin -2.ipynb",
      "version": "0.3.2",
      "provenance": [],
      "collapsed_sections": [],
      "include_colab_link": true
    },
    "kernelspec": {
      "name": "python3",
      "display_name": "Python 3"
    },
    "accelerator": "TPU"
  },
  "cells": [
    {
      "cell_type": "markdown",
      "metadata": {
        "id": "view-in-github",
        "colab_type": "text"
      },
      "source": [
        "<a href=\"https://colab.research.google.com/github/ajayyadav05/Data/blob/master/Classification_Market_data_MinMin_2.ipynb\" target=\"_parent\"><img src=\"https://colab.research.google.com/assets/colab-badge.svg\" alt=\"Open In Colab\"/></a>"
      ]
    },
    {
      "metadata": {
        "id": "WlPvLuugxFN9",
        "colab_type": "code",
        "outputId": "c2f27869-2900-47c7-deed-34af054a6008",
        "colab": {
          "base_uri": "https://localhost:8080/",
          "height": 34
        }
      },
      "cell_type": "code",
      "source": [
        "import pandas as pd\n",
        "from keras.models import Sequential\n",
        "from keras.layers import Dense\n",
        "import numpy as np\n",
        "import pandas as pd\n",
        "from sklearn.model_selection import train_test_split\n",
        "from sklearn.linear_model import SGDClassifier\n",
        "from sklearn.svm import SVC  \n",
        "from sklearn.metrics import classification_report,accuracy_score\n",
        "from sklearn.metrics import classification_report, confusion_matrix\n",
        "from sklearn.model_selection import GridSearchCV  \n",
        "from sklearn.model_selection import cross_val_score\n",
        "from sklearn.neighbors import KNeighborsClassifier\n",
        "# Import the model we are using\n",
        "from sklearn.ensemble import RandomForestClassifier\n",
        "from xgboost import XGBClassifier\n",
        "import matplotlib.pyplot as plt \n",
        "from sklearn.metrics import roc_curve, precision_recall_curve, auc, make_scorer, recall_score, accuracy_score, precision_score, confusion_matrix\n",
        "from xgboost import XGBClassifier\n",
        "from pprint import pprint\n",
        "import lightgbm as lgb\n",
        "from sklearn.neural_network import MLPClassifier\n",
        "from sklearn.preprocessing import StandardScaler \n",
        "from sklearn.preprocessing import KBinsDiscretizer\n",
        "#from sklearn_pandas import DataFrameMapper\n"
      ],
      "execution_count": 2,
      "outputs": [
        {
          "output_type": "stream",
          "text": [
            "Using TensorFlow backend.\n"
          ],
          "name": "stderr"
        }
      ]
    },
    {
      "metadata": {
        "id": "L9WZA5Iqri0b",
        "colab_type": "text"
      },
      "cell_type": "markdown",
      "source": [
        ""
      ]
    },
    {
      "metadata": {
        "id": "cbcr7Ey2yfCZ",
        "colab_type": "code",
        "colab": {}
      },
      "cell_type": "code",
      "source": [
        "url = 'https://raw.githubusercontent.com/ajayyadav05/Data/master/Data_Extract_06_March_Status.csv'\n",
        "#url = 'https://raw.githubusercontent.com/ajayyadav05/Data/master/Data_Extract_05_March_Status_PZ.csv'\n",
        "#'https://raw.githubusercontent.com/ajayyadav05/Data/master/Data_Extract_05_March_Status.csv'\n",
        "#'https://raw.githubusercontent.com/ajayyadav05/Data/master/datawith_2_1_0_1_2.csv'\n",
        "#'https://raw.githubusercontent.com/ajayyadav05/Data/master/datawith_2_1_point_5_0_point5_1_2.csv'\n",
        "#'https://raw.githubusercontent.com/ajayyadav05/Data/master/datawith_1_5%20and%20Point_5.csv'\n",
        "train_df3 = pd.read_csv(url)\n",
        "\n",
        "\n",
        "#Code to Test on a limited Dataset\n",
        "Filter = [\"20190199\",\"201812325\"]\n",
        "#Filter = [\"20181203\", #,\"20181204\",\"20181205\",\"20181206\",\"20181207\",\"20181210\",\"20181211\",\n",
        "         #\"20181212\",\"20181213\",\"20181214\",\"20181217\",\"20181218\",\"20181219\",\"20181220\",\n",
        "        # \"20181221\",\"20181224\",\"20181226\",\"20181227\",\"20181228\",\"20181231\",\"20181232\",\n",
        "#\"20181232\",] #,'20181226','20181227'\n",
        "\n",
        "\n",
        "\n",
        "\n",
        "\n",
        "\n",
        "\n",
        "#train_df1 = train_df3[train_df3.Date.isin(Filter)]\n",
        "train_df1 = train_df3[~train_df3.Date.isin(Filter)]\n",
        "train_df = train_df1\n",
        "\n",
        "\n",
        "\n",
        "#train_df3.loc[(train_df3['Name'] == 'Test_Name'),'Date' ]  = 19000101\n",
        "#train_df.loc[(train_df['Name'] == 'Test_Name')] \n",
        "\n",
        "#train_df.loc[(train_df['Name'] == 'Test_Name') & (train_df['Date'] == 20180101) , 'Date'] = 19000101\n",
        "#train_df3.loc[(train_df3['Name'] == 'Test_Name'),'Date' ]  = 19000101\n",
        "#train_df3.loc[(train_df3['Name'] == 'Test_Name')] \n"
      ],
      "execution_count": 0,
      "outputs": []
    },
    {
      "metadata": {
        "id": "to1oXhy73JBQ",
        "colab_type": "code",
        "colab": {}
      },
      "cell_type": "code",
      "source": [
        "url = 'https://raw.githubusercontent.com/ajayyadav05/Data/master/Data_Extract_14_March_Status.csv'\n",
        "train_df8 = pd.read_csv(url)\n"
      ],
      "execution_count": 0,
      "outputs": []
    },
    {
      "metadata": {
        "id": "4aW7zArjrhsX",
        "colab_type": "code",
        "colab": {}
      },
      "cell_type": "code",
      "source": [
        ""
      ],
      "execution_count": 0,
      "outputs": []
    },
    {
      "metadata": {
        "id": "jHBINVekyjXP",
        "colab_type": "code",
        "colab": {}
      },
      "cell_type": "code",
      "source": [
        "#train_df.head(2)"
      ],
      "execution_count": 0,
      "outputs": []
    },
    {
      "metadata": {
        "id": "g3dhTEI1wdkI",
        "colab_type": "code",
        "colab": {}
      },
      "cell_type": "code",
      "source": [
        "#print(train_df.columns.values)"
      ],
      "execution_count": 0,
      "outputs": []
    },
    {
      "metadata": {
        "id": "rcE8LlXS6QTO",
        "colab_type": "code",
        "colab": {}
      },
      "cell_type": "code",
      "source": [
        "#Making the target variable binary \n",
        "#train_df['N-1_Close_Minus_N_09:00_To_13:45_Max_Binary'] = np.where(train_df['N-1_Close_Minus_N_09:00_To_13:45_Max'] == 'P', 1, \n",
        "    #                   np.where(train_df['N-1_Close_Minus_N_09:00_To_13:45_Max']  == 'Z', 0, 0))\n",
        "#train_df['N-1_Close_Minus_N_09:00_To_15:00_Min_Binary'] = np.where(train_df['N-1_Close_Minus_N_09:00_To_15:00_Min'] == 'NN', 1, \n",
        "            #          np.where(train_df['N-1_Close_Minus_N_09:00_To_15:00_Min']  == 'N', 1, 0))\n",
        "#train_df['10:08_TO_13:45_MAX_MINUS_10:08_OPEN_Binary'] = np.where(train_df['10:08_TO_13:45_MAX_MINUS_10:08_OPEN'] == 'P', 1,  \n",
        "#                       np.where(train_df['10:08_TO_13:45_MAX_MINUS_10:08_OPEN']  == 'Z', 0, 0))\n",
        "#train_df['10:08_TO_13:45_MIN_MINUS_10:08_OPEN_Binary'] = np.where(train_df['10:08_TO_13:45_MIN_MINUS_10:08_OPEN'] == 'N', 1,  \n",
        "#                       np.where(train_df['10:08_TO_13:45_MIN_MINUS_10:08_OPEN']  == 'Z', 0, 0))"
      ],
      "execution_count": 0,
      "outputs": []
    },
    {
      "metadata": {
        "id": "QSJ4LY9cMfrp",
        "colab_type": "code",
        "colab": {}
      },
      "cell_type": "code",
      "source": [
        "#print(train_df.columns.values)"
      ],
      "execution_count": 0,
      "outputs": []
    },
    {
      "metadata": {
        "id": "QVQoUCxbMfqv",
        "colab_type": "code",
        "colab": {}
      },
      "cell_type": "code",
      "source": [
        "#train_df.head(50)"
      ],
      "execution_count": 0,
      "outputs": []
    },
    {
      "metadata": {
        "id": "0KcZ1HfRwYu6",
        "colab_type": "code",
        "colab": {}
      },
      "cell_type": "code",
      "source": [
        ""
      ],
      "execution_count": 0,
      "outputs": []
    },
    {
      "metadata": {
        "id": "EHn4CueJApqf",
        "colab_type": "code",
        "colab": {}
      },
      "cell_type": "code",
      "source": [
        "#train_df.describe(include='all').loc['unique', :]"
      ],
      "execution_count": 0,
      "outputs": []
    },
    {
      "metadata": {
        "id": "oPNkqsV6yvyn",
        "colab_type": "code",
        "colab": {}
      },
      "cell_type": "code",
      "source": [
        "columns_to_keep=    [\n",
        " 'N-1_09:00_To_09:30_MAX_MINUS_09:00_OPEN',\n",
        " 'N-1_09:00_To_09:30_MIN_MINUS_09:00_OPEN',\n",
        " 'N-1_09:30_To_10:00_MAX_MINUS_09:30_OPEN',\n",
        " 'N-1_09:30_To_10:00_MIN_MINUS_09:30_OPEN',\n",
        " 'N-1_10:00_To_10:30_MAX_MINUS_10:00_OPEN',\n",
        " 'N-1_10:00_To_10:30_MIN_MINUS_10:00_OPEN',\n",
        " 'N-1_10:30_To_11:00_MAX_MINUS_10:30_OPEN',\n",
        " 'N-1_10:30_To_11:00_MIN_MINUS_10:30_OPEN',\n",
        " 'N-1_11:00_To_11:30_MAX_MINUS_11:00_OPEN',\n",
        " 'N-1_11:00_To_11:30_MIN_MINUS_11:00_OPEN',\n",
        " 'N-1_11:30_To_12:00_MAX_MINUS_11:30_OPEN',\n",
        " 'N-1_11:30_To_12:00_MIN_MINUS_11:30_OPEN',\n",
        " 'N-1_12:00_To_12:30_MAX_MINUS_12:00_OPEN',\n",
        " 'N-1_12:00_To_12:30_MIN_MINUS_12:00_OPEN',\n",
        " 'N-1_12:30_To_13:00_MAX_MINUS_12:30_OPEN',\n",
        " 'N-1_12:30_To_13:00_MIN_MINUS_12:30_OPEN',\n",
        " 'N-1_13:00_To_13:30_MAX_MINUS_13:00_OPEN',\n",
        " 'N-1_13:00_To_13:30_MIN_MINUS_13:00_OPEN',\n",
        " 'N-1_13:30_To_14:00_MAX_MINUS_13:30_OPEN',\n",
        " 'N-1_13:30_To_14:00_MIN_MINUS_13:30_OPEN',\n",
        " 'N-1_14:00_To_14:30_MAX_MINUS_14:00_OPEN',\n",
        " 'N-1_14:00_To_14:30_MIN_MINUS_14:00_OPEN',\n",
        " 'N-1_14:30_To_15:00_MAX_MINUS_14:30_OPEN',\n",
        " 'N-1_14:30_To_15:00_MIN_MINUS_14:30_OPEN',\n",
        " 'N-1_15:00_To_15:30_MAX_MINUS_15:00_OPEN',\n",
        " 'N-1_15:00_To_15:30_MIN_MINUS_15:00_OPEN',\n",
        " 'N-2_09:00_To_09:30_MAX_MINUS_09:00_OPEN',\n",
        " 'N-2_09:00_To_09:30_MIN_MINUS_09:00_OPEN',\n",
        " 'N-2_09:30_To_10:00_MAX_MINUS_09:30_OPEN',\n",
        " 'N-2_09:30_To_10:00_MIN_MINUS_09:30_OPEN',\n",
        " 'N-2_10:00_To_10:30_MAX_MINUS_10:00_OPEN',\n",
        " 'N-2_10:00_To_10:30_MIN_MINUS_10:00_OPEN',\n",
        " 'N-2_10:30_To_11:00_MAX_MINUS_10:30_OPEN',\n",
        " 'N-2_10:30_To_11:00_MIN_MINUS_10:30_OPEN',\n",
        " 'N-2_11:00_To_11:30_MAX_MINUS_11:00_OPEN',\n",
        " 'N-2_11:00_To_11:30_MIN_MINUS_11:00_OPEN',\n",
        " 'N-2_11:30_To_12:00_MAX_MINUS_11:30_OPEN',\n",
        " 'N-2_11:30_To_12:00_MIN_MINUS_11:30_OPEN',\n",
        " 'N-2_12:00_To_12:30_MAX_MINUS_12:00_OPEN',\n",
        " 'N-2_12:00_To_12:30_MIN_MINUS_12:00_OPEN',\n",
        " 'N-2_12:30_To_13:00_MAX_MINUS_12:30_OPEN',\n",
        " 'N-2_12:30_To_13:00_MIN_MINUS_12:30_OPEN',\n",
        " 'N-2_13:00_To_13:30_MAX_MINUS_13:00_OPEN',\n",
        " 'N-2_13:00_To_13:30_MIN_MINUS_13:00_OPEN',\n",
        " 'N-2_13:30_To_14:00_MAX_MINUS_13:30_OPEN',\n",
        " 'N-2_13:30_To_14:00_MIN_MINUS_13:30_OPEN',\n",
        " 'N-2_14:00_To_14:30_MAX_MINUS_14:00_OPEN',\n",
        " 'N-2_14:00_To_14:30_MIN_MINUS_14:00_OPEN',\n",
        " 'N-2_14:30_To_15:00_MAX_MINUS_14:30_OPEN',\n",
        " 'N-2_14:30_To_15:00_MIN_MINUS_14:30_OPEN',\n",
        " 'N-2_15:00_To_15:30_MAX_MINUS_15:00_OPEN',\n",
        " 'N-2_15:00_To_15:30_MIN_MINUS_15:00_OPEN',\n",
        "##'N-2_09:00_Open_Minus_N-2_EOD_Close' ,\n",
        " 'N-2_09:30_Open_Minus_N-2_EOD_Close',\n",
        " 'N-2_15:30_To_EOD_MAX_MINUS_N-1_09:00_OPEN',\n",
        " 'N-2_15:30_To_EOD_MIN_MINUS_N-1_09:00_OPEN',\n",
        " ##'N-2_Last_Max_Minus_N-2_15:30_Open',\n",
        "## 'N-2_Last_Min_Minus_N-2_15:30_Open',\n",
        " #'N-1_Close_Minus_N_09:00_To_13:45_Max',\n",
        " #'N-1_Close_Minus_N_09:00_To_13:45_Min_',\n",
        " #'N-1_Close_Minus_N_09:00_To_15:00_Max',\n",
        " #'N-1_Close_Minus_N_09:00_To_15:00_Min_',\n",
        " #'N_09:00_To_09:30_Max_Minus_09:00_Open',\n",
        " #'N_09:00_To_09:30_Min_Minus_09:00_Open',\n",
        " #'N_09:00_To_13:45_Max_Minus_09:00_Open',\n",
        " #'N_09:00_To_13:45_Min_Minus_09:00_Open',\n",
        " #'N_09:00_To_15:00_Max_Minus_09:00_Open',\n",
        "# 'N_09:00_To_15:00_Min_Minus_09:00_Open',\n",
        " #'N_09:30_To_13:45_Max_Minus_N_09:30_Open',\n",
        " #'N_09:30_To_13:45_Min_Minus_N_09:30_Open',\n",
        "# 'N_09:30_To_15:00_Max_Minus_N_09:30_Open',\n",
        "# 'N_09:30_To_15:00_Min_Minus_N_09:30_Open',\n",
        "# 'N_DAY_MAX_GRT_N-1_DAY_MAX',\n",
        "# 'N_DAY_MIN_LT_N-1_DAY_MIN',\n",
        "  ##'N-1_09:00_OPEN_MINUS_N-1_EOD_Close',\n",
        "  'N-1_09:30_Open_Minus_N-1_EOD_Close',\n",
        " #'N_09:30_MAX_MINUS_N-1_EOD_CLOSE',\n",
        " #'N_09:30_Min_MINUS_N-1_EOD_CLOSE',\n",
        "# 'N-1_15:00_To_EOD_MAX_MINUS_N_09:00_OPEN',\n",
        "# 'N-1_15:00_To_EOD_MIN_MINUS_N_09:00_OPEN',\n",
        " ## 'N-1_Last_Max_Minus_N-1_15:30_Open' ,\n",
        "## 'N-1_Last_Min_Minus_N-1_15:30_Open',\n",
        " 'N-1_09:00_To_09:30_Max_Minus_N-2_09:00_Open',\n",
        " 'N-1_09:00_To_09:30_Min_Minus_N-2_09:00_Open',\n",
        " ## 'N-1_09:30_MAX_MINUS_N-2_09:00_Open',\n",
        " ## 'N-1_09:30_Min_MINUS_N-2_09:00_Open',\n",
        " 'N-1_EOD_Close_Minus_N-1_09:00_Open' ,\n",
        " 'N-2_EOD_Close_Minus_N-2_09:00_Open',\n",
        "# 'N_09:30_MAX_MINUS_N-1_09:00_Open',\n",
        " #'N_09:30_Min_MINUS_N-1_09:00_Open' ,\n",
        "# 'N-1_Close_Minus_N_09:00_To_09:30_Max',\n",
        "# 'N-1_Close_Minus_N_09:00_To_09:30_Min_',\n",
        "  ]"
      ],
      "execution_count": 0,
      "outputs": []
    },
    {
      "metadata": {
        "id": "6hD6bt2X6rDF",
        "colab_type": "code",
        "colab": {}
      },
      "cell_type": "code",
      "source": [
        "X_data1 = train_df[columns_to_keep] \n",
        "y_data =   train_df['N_DAY_MIN_LT_N-1_DAY_MIN'] #  train_df['13_47_Open']\n",
        "\n",
        "indices = train_df.index.values "
      ],
      "execution_count": 0,
      "outputs": []
    },
    {
      "metadata": {
        "id": "JM-ITfiBJA4n",
        "colab_type": "code",
        "outputId": "972830a1-85dd-460a-f1a2-6a176ffb5c26",
        "colab": {
          "base_uri": "https://localhost:8080/",
          "height": 34
        }
      },
      "cell_type": "code",
      "source": [
        "y_data.sum()"
      ],
      "execution_count": 13,
      "outputs": [
        {
          "output_type": "execute_result",
          "data": {
            "text/plain": [
              "20633"
            ]
          },
          "metadata": {
            "tags": []
          },
          "execution_count": 13
        }
      ]
    },
    {
      "metadata": {
        "id": "1ra6WZTZAOTK",
        "colab_type": "code",
        "outputId": "5db48432-d9c6-4712-c2c5-c127061047f3",
        "colab": {
          "base_uri": "https://localhost:8080/",
          "height": 84
        }
      },
      "cell_type": "code",
      "source": [
        "#scaler = StandardScaler().fit(X_data1) \n",
        "#rescaledX = scaler.transform(X_data1) \n",
        "\n",
        "\n",
        "X_data = pd.get_dummies(X_data1)\n",
        "\n",
        "#so that 30% will be selected for testing data randomly\n",
        "#Using Indices Train test\n",
        "X_train, X_test,indices_train,indices_test = train_test_split(X_data,indices, test_size=0.25, random_state=42)\n",
        "y_train, y_test = y_data[indices_train],  y_data[indices_test]\n",
        "\n",
        "#Simple Train Test\n",
        "#X_train, X_test,y_train , y_test = train_test_split(X_data, y_data, test_size=0.3, random_state=42) \n",
        "\n",
        "\n",
        "\n",
        "print('Training Features Shape:', X_train.shape)\n",
        "print('Training Labels Shape:', y_train.shape)\n",
        "print('Testing Features Shape:', X_test.shape)\n",
        "print('Testing Labels Shape:', y_test.shape)"
      ],
      "execution_count": 14,
      "outputs": [
        {
          "output_type": "stream",
          "text": [
            "Training Features Shape: (33016, 244)\n",
            "Training Labels Shape: (33016,)\n",
            "Testing Features Shape: (11006, 244)\n",
            "Testing Labels Shape: (11006,)\n"
          ],
          "name": "stdout"
        }
      ]
    },
    {
      "metadata": {
        "id": "OphY_ypkE1Bs",
        "colab_type": "code",
        "colab": {}
      },
      "cell_type": "code",
      "source": [
        ""
      ],
      "execution_count": 0,
      "outputs": []
    },
    {
      "metadata": {
        "id": "J4UTXKoRZ32S",
        "colab_type": "code",
        "outputId": "5e12417c-db3a-4853-e287-c822390a31b5",
        "colab": {
          "base_uri": "https://localhost:8080/",
          "height": 218
        }
      },
      "cell_type": "code",
      "source": [
        "# Instantiate model with 1000 decision trees\n",
        " #rf = RandomForestClassifier(n_estimators = 2000, random_state = 402,class_weight='balanced')\n",
        "rf = XGBClassifier(max_depth=5, n_estimators=2000, learning_rate=0.04,class_weight='balanced') \n",
        "\n",
        "# Train the model on training data\n",
        "rf.fit(X_train, y_train);\n",
        "\n",
        "# Use the forest's predict method on the test data\n",
        "y_pred = rf.predict(X_test)\n",
        "\n",
        "print(confusion_matrix(y_test,y_pred))  \n",
        "print(classification_report(y_test,y_pred))  \n",
        "print(accuracy_score(y_test, y_pred))\n",
        "\n",
        "#[[2559 1209]\n",
        "# [1827 1875]]\n",
        "\n",
        "#rf Balanced\n",
        "#[[5366  398]\n",
        " #[1484  219]]\n",
        "  # with rf\n",
        "#[[3635 1730]\n",
        "# [1337 3323]]"
      ],
      "execution_count": 15,
      "outputs": [
        {
          "output_type": "stream",
          "text": [
            "[[3755 2106]\n",
            " [1544 3601]]\n",
            "              precision    recall  f1-score   support\n",
            "\n",
            "           0       0.71      0.64      0.67      5861\n",
            "           1       0.63      0.70      0.66      5145\n",
            "\n",
            "   micro avg       0.67      0.67      0.67     11006\n",
            "   macro avg       0.67      0.67      0.67     11006\n",
            "weighted avg       0.67      0.67      0.67     11006\n",
            "\n",
            "0.66836271124841\n"
          ],
          "name": "stdout"
        }
      ]
    },
    {
      "metadata": {
        "id": "ZUzAu2v6ixUp",
        "colab_type": "code",
        "colab": {}
      },
      "cell_type": "code",
      "source": [
        ""
      ],
      "execution_count": 0,
      "outputs": []
    },
    {
      "metadata": {
        "id": "QY7LDVpXeLsa",
        "colab_type": "code",
        "colab": {}
      },
      "cell_type": "code",
      "source": [
        "# to check the confusion matrix for multiple thresholds\n",
        "\n",
        "def adjusted_classes(y_scores, t):\n",
        "    \"\"\"\n",
        "    This function adjusts class predictions based on the prediction threshold (t).\n",
        "    Will only work for binary classification problems.\n",
        "    \"\"\"\n",
        "    return [1 if y >= t else 0 for y in y_scores]\n",
        "\n",
        "def precision_recall_threshold(p, r, thresholds, t=0.5):\n",
        "    \"\"\"\n",
        "    plots the precision recall curve and shows the current value for each\n",
        "    by identifying the classifier's threshold (t).\n",
        "    \"\"\"\n",
        "    \n",
        "    # generate new class predictions based on the adjusted_classes\n",
        "    # function above and view the resulting confusion matrix.\n",
        "    y_pred_adj = adjusted_classes(y_scores, t)\n",
        "    print(pd.DataFrame(confusion_matrix(y_test, y_pred_adj),\n",
        "                       columns=['pred_neg', 'pred_pos'], \n",
        "                       index=['neg', 'pos']))\n",
        "    \n",
        "    # plot the curve\n",
        "    plt.figure(figsize=(8,8))\n",
        "    plt.title(\"Precision and Recall curve ^ = current threshold\")\n",
        "    plt.step(r, p, color='b', alpha=0.2,\n",
        "             where='post')\n",
        "    plt.fill_between(r, p, step='post', alpha=0.2,\n",
        "                     color='b')\n",
        "    plt.ylim([0.5, 1.01]);\n",
        "    plt.xlim([0.5, 1.01]);\n",
        "    plt.xlabel('Recall');\n",
        "    plt.ylabel('Precision');\n",
        "    \n",
        "    # plot the current threshold on the line\n",
        "    close_default_clf = np.argmin(np.abs(thresholds - t))\n",
        "    plt.plot(r[close_default_clf], p[close_default_clf], '^', c='k',\n",
        "            markersize=15)"
      ],
      "execution_count": 0,
      "outputs": []
    },
    {
      "metadata": {
        "id": "0qPlnMWBgeuE",
        "colab_type": "code",
        "colab": {}
      },
      "cell_type": "code",
      "source": [
        "y_pred = rf.predict(X_test)\n",
        "y_scores = rf.predict_proba(X_test)[:, 1]\n",
        "# for classifiers with decision_function, this achieves similar results\n",
        "# y_scores = classifier.decision_function(X_test)\n",
        "\n",
        "#p, r, thresholds = precision_recall_curve(y_test, y_scores)\n",
        "p, r, thresholds = precision_recall_curve(y_test, y_pred)\n",
        "\n",
        " #  pred_neg  pred_pos .75\n",
        "#neg      4520       289\n",
        "#pos      3307       754\n",
        " #    pred_neg  pred_pos\n",
        "#neg      4715       650\n",
        "#pos      2855      1805"
      ],
      "execution_count": 0,
      "outputs": []
    },
    {
      "metadata": {
        "id": "eQDxxMR5iOd8",
        "colab_type": "code",
        "outputId": "49131381-d280-40b2-e803-41e688d8793c",
        "colab": {
          "base_uri": "https://localhost:8080/",
          "height": 562
        }
      },
      "cell_type": "code",
      "source": [
        "precision_recall_threshold(p, r, thresholds, 0.80)"
      ],
      "execution_count": 18,
      "outputs": [
        {
          "output_type": "stream",
          "text": [
            "     pred_neg  pred_pos\n",
            "neg      5638       223\n",
            "pos      4493       652\n"
          ],
          "name": "stdout"
        },
        {
          "output_type": "display_data",
          "data": {
            "image/png": "[encoded data removed]",
            "text/plain": [
              "<Figure size 576x576 with 1 Axes>"
            ]
          },
          "metadata": {
            "tags": []
          }
        }
      ]
    },
    {
      "metadata": {
        "id": "xt4J5T4EmLbm",
        "colab_type": "code",
        "colab": {}
      },
      "cell_type": "code",
      "source": [
        ""
      ],
      "execution_count": 0,
      "outputs": []
    },
    {
      "metadata": {
        "id": "sPMkZ3hlOzur",
        "colab_type": "code",
        "colab": {}
      },
      "cell_type": "code",
      "source": [
        "#df_new.loc[indices_test,'pred_test'] = prediction_of_probability # clf.predict_proba(X_test)\n",
        "#print(df_new.head(10))\n",
        "prediction_of_probability = rf.predict_proba(X_test)\n",
        "df_new = train_df.copy()\n",
        "\n",
        "df_new['Target'] = pd.Series(y_test,index=X_test.index) # y_test\n",
        "df_new['prob_of_Zero'] = pd.Series(prediction_of_probability[:,0],index=X_test.index) #prediction_of_probability[:,0] \n",
        "df_new['prob_of_P_N'] = pd.Series(prediction_of_probability[:,1],index=X_test.index) #prediction_of_probability[:,1] \n",
        "df_new['prediction result'] = pd.Series(y_pred,index=X_test.index)\n",
        "#df_new[df_new['prob_of_P_N'] > .80]\n"
      ],
      "execution_count": 0,
      "outputs": []
    },
    {
      "metadata": {
        "id": "shawyOopIg0A",
        "colab_type": "code",
        "outputId": "376df020-b534-47ec-e831-ce6c00883f07",
        "colab": {
          "base_uri": "https://localhost:8080/",
          "height": 646
        }
      },
      "cell_type": "code",
      "source": [
        "Filter = [\"19000101\",\"20190315\"]\n",
        "\n",
        "#Filter = [\n",
        "#  \"20190131\",\"20190130\",\"20190129\",\"20190128\",\"20190125\",\"20190124\",\"20190123\",\"20190122\",\"20190121\",\n",
        "#\"20190118\",\"20190117\",\"20190116\",\"20190115\",\"20190114\",\"20190111\",\"20190110\",\"20190109\",\n",
        "#\"20190108\",\"20190107\",\"20190104\",\"20190103\",\"20190102\",\n",
        "  \n",
        "#] \n",
        "#train_df1 = train_df3[train_df3.Date.isin(Filter)]\n",
        "\n",
        "train_df1 = train_df8[train_df8.Date.isin(Filter)] #live\n",
        "train_df = train_df1\n",
        "\n",
        "\n",
        "X_data1 = train_df[columns_to_keep] \n",
        "y_data =   train_df['N_DAY_MIN_LT_N-1_DAY_MIN'] #  train_df['13_47_Open']\n",
        "\n",
        "indices = train_df.index.values \n",
        "print(\"y_data sum is :\",y_data.sum() )\n",
        "\n",
        "#mapper = DataFrameMapper([(X_data1.columns, StandardScaler())])\n",
        "#scaled_features = mapper.fit_transform(X_data1.copy(), 4)\n",
        "#scaled_features_df = pd.DataFrame(scaled_features, index=X_data1.index, columns=X_data1.columns)\n",
        "\n",
        "\n",
        "X_data = pd.get_dummies(X_data1)#scaled_features_df #pd.get_dummies(X_data1)\n",
        "\n",
        "#so that 30% will be selected for testing data randomly\n",
        "#Using Indices Train test\n",
        "X_train, X_test,indices_train,indices_test = train_test_split(X_data,indices, test_size=0.99, random_state=42)\n",
        "y_train, y_test = y_data[indices_train],  y_data[indices_test]\n",
        "\n",
        "#Simple Train Test\n",
        "#X_train, X_test,y_train , y_test = train_test_split(X_data, y_data, test_size=0.3, random_state=42) \n",
        "\n",
        "\n",
        "#print('Training Features Shape:', X_data.shape)\n",
        "print('Training Features Shape:', X_train.shape)\n",
        "print('Training Labels Shape:', y_train.shape)\n",
        "print('Testing Features Shape:', X_test.shape)\n",
        "print('Testing Labels Shape:', y_test.shape)\n",
        "\n",
        "y_pred = rf.predict(X_test)\n",
        "y_scores = rf.predict_proba(X_test)[:, 1]\n",
        "p, r, thresholds = precision_recall_curve(y_test, y_scores)\n",
        "\n",
        "precision_recall_threshold(p, r, thresholds, 0.80)"
      ],
      "execution_count": 32,
      "outputs": [
        {
          "output_type": "stream",
          "text": [
            "y_data sum is : 84\n",
            "Training Features Shape: (0, 244)\n",
            "Training Labels Shape: (0,)\n",
            "Testing Features Shape: (89, 244)\n",
            "Testing Labels Shape: (89,)\n",
            "     pred_neg  pred_pos\n",
            "neg         5         0\n",
            "pos        78         6\n"
          ],
          "name": "stdout"
        },
        {
          "output_type": "display_data",
          "data": {
            "image/png": "[encoded data removed]",
            "text/plain": [
              "<Figure size 576x576 with 1 Axes>"
            ]
          },
          "metadata": {
            "tags": []
          }
        }
      ]
    },
    {
      "metadata": {
        "id": "ClyMrF1UQSJI",
        "colab_type": "code",
        "outputId": "2a703352-dd75-4eb0-e8f2-f919a9cde65c",
        "colab": {
          "base_uri": "https://localhost:8080/",
          "height": 307
        }
      },
      "cell_type": "code",
      "source": [
        "#df_new.loc[indices_test,'pred_test'] = prediction_of_probability # clf.predict_proba(X_test)\n",
        "#print(df_new.head(10))\n",
        "prediction_of_probability = rf.predict_proba(X_test)\n",
        "df_new = train_df.copy()\n",
        "\n",
        "df_new['Target'] = pd.Series(y_test,index=X_test.index) # y_test\n",
        "df_new['prob_of_Zero'] = pd.Series(prediction_of_probability[:,0],index=X_test.index) #prediction_of_probability[:,0] \n",
        "df_new['prob_of_P_N'] = pd.Series(prediction_of_probability[:,1],index=X_test.index) #prediction_of_probability[:,1] \n",
        "df_new['prediction result'] = pd.Series(y_pred,index=X_test.index)\n",
        "#df_new[df_new['prob_of_P_N'] > .80]# and df_new['prob_of_P_N'] < .70]\n",
        "df_new[df_new.prob_of_P_N.between(.8,.98)]\n",
        "#df_new[df_new['Name'] == \"RELCAPITAL\"]\n"
      ],
      "execution_count": 33,
      "outputs": [
        {
          "output_type": "execute_result",
          "data": {
            "text/html": [
              "<div>\n",
              "<style scoped>\n",
              "    .dataframe tbody tr th:only-of-type {\n",
              "        vertical-align: middle;\n",
              "    }\n",
              "\n",
              "    .dataframe tbody tr th {\n",
              "        vertical-align: top;\n",
              "    }\n",
              "\n",
              "    .dataframe thead th {\n",
              "        text-align: right;\n",
              "    }\n",
              "</style>\n",
              "<table border=\"1\" class=\"dataframe\">\n",
              "  <thead>\n",
              "    <tr style=\"text-align: right;\">\n",
              "      <th></th>\n",
              "      <th>Name</th>\n",
              "      <th>Date</th>\n",
              "      <th>N_DAY_MAX_GRT_N-1_DAY_MAX</th>\n",
              "      <th>N_DAY_MIN_LT_N-1_DAY_MIN</th>\n",
              "      <th>N_09:00_To_09:30_Max_Minus_09:00_Open</th>\n",
              "      <th>N_09:00_To_09:30_Min_Minus_09:00_Open</th>\n",
              "      <th>N_09:00_To_13:45_Max_Minus_09:00_Open</th>\n",
              "      <th>N_09:00_To_13:45_Max_Minus_N-1_Close</th>\n",
              "      <th>N_09:00_To_13:45_Min_Minus_09:00_Open</th>\n",
              "      <th>N_09:00_To_13:45_Min_Minus_N-1_Close</th>\n",
              "      <th>...</th>\n",
              "      <th>N-2_14:30_To_15:00_MIN_MINUS_14:30_OPEN</th>\n",
              "      <th>N-2_15:00_To_15:30_MAX_MINUS_15:00_OPEN</th>\n",
              "      <th>N-2_15:00_To_15:30_MIN_MINUS_15:00_OPEN</th>\n",
              "      <th>N-2_15:30_To_EOD_MAX_MINUS_N-1_09:00_OPEN</th>\n",
              "      <th>N-2_15:30_To_EOD_MIN_MINUS_N-1_09:00_OPEN</th>\n",
              "      <th>N-2_EOD_Close_Minus_N-2_09:00_Open</th>\n",
              "      <th>Target</th>\n",
              "      <th>prob_of_Zero</th>\n",
              "      <th>prob_of_P_N</th>\n",
              "      <th>prediction result</th>\n",
              "    </tr>\n",
              "  </thead>\n",
              "  <tbody>\n",
              "    <tr>\n",
              "      <th>7</th>\n",
              "      <td>AMBUJACEM</td>\n",
              "      <td>20190315</td>\n",
              "      <td>1</td>\n",
              "      <td>1</td>\n",
              "      <td>Z</td>\n",
              "      <td>Z</td>\n",
              "      <td>Z</td>\n",
              "      <td>Z</td>\n",
              "      <td>Z</td>\n",
              "      <td>NN</td>\n",
              "      <td>...</td>\n",
              "      <td>NZ</td>\n",
              "      <td>Z</td>\n",
              "      <td>NZ</td>\n",
              "      <td>Z</td>\n",
              "      <td>Z</td>\n",
              "      <td>N</td>\n",
              "      <td>1</td>\n",
              "      <td>0.162856</td>\n",
              "      <td>0.837144</td>\n",
              "      <td>1</td>\n",
              "    </tr>\n",
              "    <tr>\n",
              "      <th>71</th>\n",
              "      <td>IBULHSGFIN</td>\n",
              "      <td>20190315</td>\n",
              "      <td>1</td>\n",
              "      <td>1</td>\n",
              "      <td>Z</td>\n",
              "      <td>Z</td>\n",
              "      <td>Z</td>\n",
              "      <td>Z</td>\n",
              "      <td>Z</td>\n",
              "      <td>NN</td>\n",
              "      <td>...</td>\n",
              "      <td>NZ</td>\n",
              "      <td>PZ</td>\n",
              "      <td>NZ</td>\n",
              "      <td>Z</td>\n",
              "      <td>N</td>\n",
              "      <td>NN</td>\n",
              "      <td>1</td>\n",
              "      <td>0.171861</td>\n",
              "      <td>0.828139</td>\n",
              "      <td>1</td>\n",
              "    </tr>\n",
              "    <tr>\n",
              "      <th>75</th>\n",
              "      <td>IDBI</td>\n",
              "      <td>20190315</td>\n",
              "      <td>1</td>\n",
              "      <td>1</td>\n",
              "      <td>Z</td>\n",
              "      <td>Z</td>\n",
              "      <td>Z</td>\n",
              "      <td>Z</td>\n",
              "      <td>Z</td>\n",
              "      <td>NN</td>\n",
              "      <td>...</td>\n",
              "      <td>NZ</td>\n",
              "      <td>PZ</td>\n",
              "      <td>NZ</td>\n",
              "      <td>Z</td>\n",
              "      <td>Z</td>\n",
              "      <td>NN</td>\n",
              "      <td>1</td>\n",
              "      <td>0.156119</td>\n",
              "      <td>0.843881</td>\n",
              "      <td>1</td>\n",
              "    </tr>\n",
              "    <tr>\n",
              "      <th>89</th>\n",
              "      <td>JINDALSTEL</td>\n",
              "      <td>20190315</td>\n",
              "      <td>1</td>\n",
              "      <td>1</td>\n",
              "      <td>Z</td>\n",
              "      <td>Z</td>\n",
              "      <td>Z</td>\n",
              "      <td>Z</td>\n",
              "      <td>Z</td>\n",
              "      <td>NN</td>\n",
              "      <td>...</td>\n",
              "      <td>NZ</td>\n",
              "      <td>PZ</td>\n",
              "      <td>NZ</td>\n",
              "      <td>Z</td>\n",
              "      <td>NZ</td>\n",
              "      <td>NN</td>\n",
              "      <td>1</td>\n",
              "      <td>0.148774</td>\n",
              "      <td>0.851226</td>\n",
              "      <td>1</td>\n",
              "    </tr>\n",
              "    <tr>\n",
              "      <th>117</th>\n",
              "      <td>RCOM</td>\n",
              "      <td>20190315</td>\n",
              "      <td>1</td>\n",
              "      <td>1</td>\n",
              "      <td>Z</td>\n",
              "      <td>Z</td>\n",
              "      <td>Z</td>\n",
              "      <td>Z</td>\n",
              "      <td>Z</td>\n",
              "      <td>NN</td>\n",
              "      <td>...</td>\n",
              "      <td>N</td>\n",
              "      <td>P</td>\n",
              "      <td>N</td>\n",
              "      <td>P</td>\n",
              "      <td>Z</td>\n",
              "      <td>NN</td>\n",
              "      <td>1</td>\n",
              "      <td>0.079110</td>\n",
              "      <td>0.920890</td>\n",
              "      <td>1</td>\n",
              "    </tr>\n",
              "    <tr>\n",
              "      <th>160</th>\n",
              "      <td>VOLTAS</td>\n",
              "      <td>20190315</td>\n",
              "      <td>1</td>\n",
              "      <td>1</td>\n",
              "      <td>Z</td>\n",
              "      <td>Z</td>\n",
              "      <td>Z</td>\n",
              "      <td>Z</td>\n",
              "      <td>Z</td>\n",
              "      <td>NN</td>\n",
              "      <td>...</td>\n",
              "      <td>Z</td>\n",
              "      <td>Z</td>\n",
              "      <td>NZ</td>\n",
              "      <td>PZ</td>\n",
              "      <td>Z</td>\n",
              "      <td>Z</td>\n",
              "      <td>1</td>\n",
              "      <td>0.191617</td>\n",
              "      <td>0.808383</td>\n",
              "      <td>1</td>\n",
              "    </tr>\n",
              "  </tbody>\n",
              "</table>\n",
              "<p>6 rows × 90 columns</p>\n",
              "</div>"
            ],
            "text/plain": [
              "           Name      Date  N_DAY_MAX_GRT_N-1_DAY_MAX  \\\n",
              "7     AMBUJACEM  20190315                          1   \n",
              "71   IBULHSGFIN  20190315                          1   \n",
              "75         IDBI  20190315                          1   \n",
              "89   JINDALSTEL  20190315                          1   \n",
              "117        RCOM  20190315                          1   \n",
              "160      VOLTAS  20190315                          1   \n",
              "\n",
              "     N_DAY_MIN_LT_N-1_DAY_MIN N_09:00_To_09:30_Max_Minus_09:00_Open  \\\n",
              "7                           1                                     Z   \n",
              "71                          1                                     Z   \n",
              "75                          1                                     Z   \n",
              "89                          1                                     Z   \n",
              "117                         1                                     Z   \n",
              "160                         1                                     Z   \n",
              "\n",
              "    N_09:00_To_09:30_Min_Minus_09:00_Open  \\\n",
              "7                                       Z   \n",
              "71                                      Z   \n",
              "75                                      Z   \n",
              "89                                      Z   \n",
              "117                                     Z   \n",
              "160                                     Z   \n",
              "\n",
              "    N_09:00_To_13:45_Max_Minus_09:00_Open  \\\n",
              "7                                       Z   \n",
              "71                                      Z   \n",
              "75                                      Z   \n",
              "89                                      Z   \n",
              "117                                     Z   \n",
              "160                                     Z   \n",
              "\n",
              "    N_09:00_To_13:45_Max_Minus_N-1_Close  \\\n",
              "7                                      Z   \n",
              "71                                     Z   \n",
              "75                                     Z   \n",
              "89                                     Z   \n",
              "117                                    Z   \n",
              "160                                    Z   \n",
              "\n",
              "    N_09:00_To_13:45_Min_Minus_09:00_Open  \\\n",
              "7                                       Z   \n",
              "71                                      Z   \n",
              "75                                      Z   \n",
              "89                                      Z   \n",
              "117                                     Z   \n",
              "160                                     Z   \n",
              "\n",
              "    N_09:00_To_13:45_Min_Minus_N-1_Close        ...         \\\n",
              "7                                     NN        ...          \n",
              "71                                    NN        ...          \n",
              "75                                    NN        ...          \n",
              "89                                    NN        ...          \n",
              "117                                   NN        ...          \n",
              "160                                   NN        ...          \n",
              "\n",
              "    N-2_14:30_To_15:00_MIN_MINUS_14:30_OPEN  \\\n",
              "7                                        NZ   \n",
              "71                                       NZ   \n",
              "75                                       NZ   \n",
              "89                                       NZ   \n",
              "117                                       N   \n",
              "160                                       Z   \n",
              "\n",
              "    N-2_15:00_To_15:30_MAX_MINUS_15:00_OPEN  \\\n",
              "7                                         Z   \n",
              "71                                       PZ   \n",
              "75                                       PZ   \n",
              "89                                       PZ   \n",
              "117                                       P   \n",
              "160                                       Z   \n",
              "\n",
              "    N-2_15:00_To_15:30_MIN_MINUS_15:00_OPEN  \\\n",
              "7                                        NZ   \n",
              "71                                       NZ   \n",
              "75                                       NZ   \n",
              "89                                       NZ   \n",
              "117                                       N   \n",
              "160                                      NZ   \n",
              "\n",
              "    N-2_15:30_To_EOD_MAX_MINUS_N-1_09:00_OPEN  \\\n",
              "7                                           Z   \n",
              "71                                          Z   \n",
              "75                                          Z   \n",
              "89                                          Z   \n",
              "117                                         P   \n",
              "160                                        PZ   \n",
              "\n",
              "    N-2_15:30_To_EOD_MIN_MINUS_N-1_09:00_OPEN  \\\n",
              "7                                           Z   \n",
              "71                                          N   \n",
              "75                                          Z   \n",
              "89                                         NZ   \n",
              "117                                         Z   \n",
              "160                                         Z   \n",
              "\n",
              "    N-2_EOD_Close_Minus_N-2_09:00_Open Target prob_of_Zero prob_of_P_N  \\\n",
              "7                                    N      1     0.162856    0.837144   \n",
              "71                                  NN      1     0.171861    0.828139   \n",
              "75                                  NN      1     0.156119    0.843881   \n",
              "89                                  NN      1     0.148774    0.851226   \n",
              "117                                 NN      1     0.079110    0.920890   \n",
              "160                                  Z      1     0.191617    0.808383   \n",
              "\n",
              "    prediction result  \n",
              "7                   1  \n",
              "71                  1  \n",
              "75                  1  \n",
              "89                  1  \n",
              "117                 1  \n",
              "160                 1  \n",
              "\n",
              "[6 rows x 90 columns]"
            ]
          },
          "metadata": {
            "tags": []
          },
          "execution_count": 33
        }
      ]
    },
    {
      "metadata": {
        "id": "RiH7wNvJK3V9",
        "colab_type": "code",
        "colab": {}
      },
      "cell_type": "code",
      "source": [
        "def getting_output_min_min(current_dt, cutoff = .80):\n",
        "    \"\"\"\n",
        "    This function adjusts class predictions based on the prediction threshold (t).\n",
        "    Will only work for binary classification problems.\n",
        "    \"\"\"\n",
        "    Filter = [\"19000101\", current_dt]\n",
        "\n",
        "    train_df1 = train_df3[train_df3.Date.isin(Filter)]\n",
        "   # train_df1 = train_df8[train_df8.Date.isin(Filter)] #live\n",
        "    train_df = train_df1\n",
        "\n",
        "\n",
        "    X_data1 = train_df[columns_to_keep] \n",
        "    y_data =   train_df['N_DAY_MIN_LT_N-1_DAY_MIN'] #  train_df['13_47_Open']\n",
        "    \n",
        "    indices = train_df.index.values \n",
        "    #print(\"y_data sum is :\",y_data.sum() )\n",
        "\n",
        "\n",
        "    X_data = pd.get_dummies(X_data1)#scaled_features_df #pd.get_dummies(X_data1)\n",
        "\n",
        "    #so that 30% will be selected for testing data randomly\n",
        "    #Using Indices Train test\n",
        "    X_train, X_test,indices_train,indices_test = train_test_split(X_data,indices, test_size=0.99, random_state=42)\n",
        "    y_train, y_test = y_data[indices_train],  y_data[indices_test]\n",
        "    y_scores = rf.predict_proba(X_test)[:, 1]\n",
        "    y_pred = (y_scores > cutoff)\n",
        "    print(\"Matrix at cut off :\", cutoff, \"on date: \", current_dt )\n",
        "    print(confusion_matrix(y_test,y_pred)) "
      ],
      "execution_count": 0,
      "outputs": []
    },
    {
      "metadata": {
        "id": "KydzBU2sNW5q",
        "colab_type": "code",
        "outputId": "40378a22-182f-4c6b-9b29-a947d7cf1574",
        "colab": {
          "base_uri": "https://localhost:8080/",
          "height": 50
        }
      },
      "cell_type": "code",
      "source": [
        "getting_output_min_min(20190307, .8)"
      ],
      "execution_count": 23,
      "outputs": [
        {
          "output_type": "stream",
          "text": [
            "Matrix at cut off : 0.8 on date:  20190307\n",
            "[[5]]\n"
          ],
          "name": "stdout"
        }
      ]
    },
    {
      "metadata": {
        "id": "qA5hJ9mKO0D8",
        "colab_type": "code",
        "outputId": "3e73c543-414e-47b9-8f90-e0b7ccd8a929",
        "colab": {
          "base_uri": "https://localhost:8080/",
          "height": 924
        }
      },
      "cell_type": "code",
      "source": [
        "DateFilter = [\"20190226\",\n",
        "\"20190225\",\n",
        "\"20190222\",\n",
        "\"20190221\",\n",
        "\"20190220\",\n",
        "\"20190219\",\n",
        "\"20190218\",\n",
        "\"20190215\",\n",
        "\"20190214\",\n",
        "\"20190213\",\n",
        "\"20190212\",\n",
        "\"20190211\",\n",
        "\"20190208\",\n",
        "\"20190207\",\n",
        "\"20190206\",\n",
        "\"20190205\",\n",
        "\"20190204\",\n",
        "\"20190201\",\n",
        "]\n",
        "for x in DateFilter:\n",
        "  getting_output_min_min(x, .80)"
      ],
      "execution_count": 24,
      "outputs": [
        {
          "output_type": "stream",
          "text": [
            "Matrix at cut off : 0.8 on date:  20190226\n",
            "[[24  0]\n",
            " [58 10]]\n",
            "Matrix at cut off : 0.8 on date:  20190225\n",
            "[[66  0]\n",
            " [21  4]]\n",
            "Matrix at cut off : 0.8 on date:  20190222\n",
            "[[66  0]\n",
            " [24  0]]\n",
            "Matrix at cut off : 0.8 on date:  20190221\n",
            "[[77  0]\n",
            " [13  0]]\n",
            "Matrix at cut off : 0.8 on date:  20190220\n",
            "[[70  2]\n",
            " [12  5]]\n",
            "Matrix at cut off : 0.8 on date:  20190219\n",
            "[[60  2]\n",
            " [21  8]]\n",
            "Matrix at cut off : 0.8 on date:  20190218\n",
            "[[49  2]\n",
            " [22 18]]\n",
            "Matrix at cut off : 0.8 on date:  20190215\n",
            "[[37  0]\n",
            " [44  7]]\n",
            "Matrix at cut off : 0.8 on date:  20190214\n",
            "[[30  0]\n",
            " [34 22]]\n",
            "Matrix at cut off : 0.8 on date:  20190213\n",
            "[[39  0]\n",
            " [37 13]]\n",
            "Matrix at cut off : 0.8 on date:  20190212\n",
            "[[52  0]\n",
            " [24 13]]\n",
            "Matrix at cut off : 0.8 on date:  20190211\n",
            "[[28  0]\n",
            " [38 23]]\n",
            "Matrix at cut off : 0.8 on date:  20190208\n",
            "[[30  1]\n",
            " [47 12]]\n",
            "Matrix at cut off : 0.8 on date:  20190207\n",
            "[[78  0]\n",
            " [ 9  3]]\n",
            "Matrix at cut off : 0.8 on date:  20190206\n",
            "[[52  0]\n",
            " [17 19]]\n",
            "Matrix at cut off : 0.8 on date:  20190205\n",
            "[[43  0]\n",
            " [28 16]]\n",
            "Matrix at cut off : 0.8 on date:  20190204\n",
            "[[29  1]\n",
            " [42 16]]\n",
            "Matrix at cut off : 0.8 on date:  20190201\n",
            "[[68  0]\n",
            " [21  0]]\n"
          ],
          "name": "stdout"
        }
      ]
    },
    {
      "metadata": {
        "id": "LP2Op-9e7hBA",
        "colab_type": "code",
        "colab": {}
      },
      "cell_type": "code",
      "source": [
        ""
      ],
      "execution_count": 0,
      "outputs": []
    },
    {
      "metadata": {
        "id": "ufbyCv1E-2Qv",
        "colab_type": "code",
        "colab": {}
      },
      "cell_type": "code",
      "source": [
        "#Light GBM\n",
        "\n",
        "params = {'boosting_type': 'gbdt',\n",
        "          'max_depth' : -1,\n",
        "          'objective': 'binary',\n",
        "          'nthread': 3, # Updated from nthread\n",
        "          'num_leaves': 64,\n",
        "          'learning_rate': 0.05,\n",
        "          'max_bin': 512,\n",
        "          'subsample_for_bin': 200,\n",
        "          'subsample': 1,\n",
        "          'subsample_freq': 1,\n",
        "          'colsample_bytree': 0.8,\n",
        "          'reg_alpha': 5,\n",
        "          'reg_lambda': 10,\n",
        "          'min_split_gain': 0.5,\n",
        "          'min_child_weight': 1,\n",
        "          'min_child_samples': 5,\n",
        "          'scale_pos_weight': 1,\n",
        "          'num_class' : 1,\n",
        "          'metric' : 'binary_error'}\n",
        "\n",
        "# Create parameters to search\n",
        "gridParams = {\n",
        "    'learning_rate': [0.005],\n",
        "    'n_estimators': [40],\n",
        "    'num_leaves': [6,8,12,16],\n",
        "    'boosting_type' : ['gbdt'],\n",
        "    'objective' : ['binary'],\n",
        "    'random_state' : [501], # Updated from 'seed'\n",
        "    'colsample_bytree' : [0.65, 0.66],\n",
        "    'subsample' : [0.7,0.75],\n",
        "    'reg_alpha' : [1,1.2],\n",
        "    'reg_lambda' : [1,1.2,1.4],\n",
        "    }\n",
        "\n",
        "# Create classifier to use. Note that parameters have to be input manually\n",
        "# not as a dict!\n",
        "mdl = lgb.LGBMClassifier(boosting_type= 'gbdt',\n",
        "          objective = 'binary',\n",
        "          n_jobs = 3, # Updated from 'nthread'\n",
        "          silent = True,\n",
        "          max_depth = params['max_depth'],\n",
        "          max_bin = params['max_bin'],\n",
        "          subsample_for_bin = params['subsample_for_bin'],\n",
        "          subsample = params['subsample'],\n",
        "          subsample_freq = params['subsample_freq'],\n",
        "          min_split_gain = params['min_split_gain'],\n",
        "          min_child_weight = params['min_child_weight'],\n",
        "          min_child_samples = params['min_child_samples'],\n",
        "          scale_pos_weight = params['scale_pos_weight'])\n",
        "\n",
        "# To view the default model params:\n",
        "mdl.get_params().keys()\n",
        "\n",
        "# Create the grid\n",
        "grid = GridSearchCV(mdl, gridParams,\n",
        "                    verbose=0,\n",
        "                    cv=4,\n",
        "                    n_jobs=2)\n",
        "# Run the grid\n",
        "#grid.fit(X_data, y_data)"
      ],
      "execution_count": 0,
      "outputs": []
    },
    {
      "metadata": {
        "id": "li03CMnQAtyV",
        "colab_type": "code",
        "outputId": "eb47d9b5-85db-430d-e75d-8e6022faa0bd",
        "colab": {
          "base_uri": "https://localhost:8080/",
          "height": 229
        }
      },
      "cell_type": "code",
      "source": [
        "#Light GBM Implemetation\n",
        "\n",
        "# Using parameters already set above, replace in the best from the grid search\n",
        "params['colsample_bytree'] = grid.best_params_['colsample_bytree']\n",
        "params['learning_rate'] = grid.best_params_['learning_rate']\n",
        "#params['max_bin'] = grid.best_params_['max_bin']\n",
        "params['num_leaves'] = grid.best_params_['num_leaves']\n",
        "params['reg_alpha'] = grid.best_params_['reg_alpha']\n",
        "params['reg_lambda'] = grid.best_params_['reg_lambda']\n",
        "params['subsample'] = grid.best_params_['subsample']\n",
        "#params['subsample_for_bin'] = grid.best_params_['subsample_for_bin']\n",
        "\n",
        "#trainDataL = lgb.Dataset(X_train, label=y_train)\n",
        "#validDataL = y_test\n",
        "\n",
        "d_train = lgb.Dataset(X_train, label=y_train)\n",
        "clf = lgb.train(params, d_train, 200000) # 200000 iterations\n",
        "\n",
        "y_pred=clf.predict(X_test)\n",
        "\n",
        "for i in range(0,9337):\n",
        "    if y_pred[i]>=.6:       # setting threshold to .5\n",
        "       y_pred[i]=1\n",
        "    else:  \n",
        "       y_pred[i]=0\n",
        "        \n",
        "        #Confusion matrix\n",
        "from sklearn.metrics import confusion_matrix\n",
        "cm = confusion_matrix(y_test, y_pred)\n",
        "#Accuracy\n",
        "from sklearn.metrics import accuracy_score\n",
        "accuracy=accuracy_score(y_pred,y_test)\n",
        "cm"
      ],
      "execution_count": 26,
      "outputs": [
        {
          "output_type": "error",
          "ename": "AttributeError",
          "evalue": "ignored",
          "traceback": [
            "\u001b[0;31m---------------------------------------------------------------------------\u001b[0m",
            "\u001b[0;31mAttributeError\u001b[0m                            Traceback (most recent call last)",
            "\u001b[0;32m<ipython-input-26-84433a9cf9d7>\u001b[0m in \u001b[0;36m<module>\u001b[0;34m()\u001b[0m\n\u001b[0;32m----> 1\u001b[0;31m \u001b[0mparams\u001b[0m\u001b[0;34m[\u001b[0m\u001b[0;34m'colsample_bytree'\u001b[0m\u001b[0;34m]\u001b[0m \u001b[0;34m=\u001b[0m \u001b[0mgrid\u001b[0m\u001b[0;34m.\u001b[0m\u001b[0mbest_params_\u001b[0m\u001b[0;34m[\u001b[0m\u001b[0;34m'colsample_bytree'\u001b[0m\u001b[0;34m]\u001b[0m\u001b[0;34m\u001b[0m\u001b[0;34m\u001b[0m\u001b[0m\n\u001b[0m\u001b[1;32m      2\u001b[0m \u001b[0mparams\u001b[0m\u001b[0;34m[\u001b[0m\u001b[0;34m'learning_rate'\u001b[0m\u001b[0;34m]\u001b[0m \u001b[0;34m=\u001b[0m \u001b[0mgrid\u001b[0m\u001b[0;34m.\u001b[0m\u001b[0mbest_params_\u001b[0m\u001b[0;34m[\u001b[0m\u001b[0;34m'learning_rate'\u001b[0m\u001b[0;34m]\u001b[0m\u001b[0;34m\u001b[0m\u001b[0;34m\u001b[0m\u001b[0m\n\u001b[1;32m      3\u001b[0m \u001b[0;31m#params['max_bin'] = grid.best_params_['max_bin']\u001b[0m\u001b[0;34m\u001b[0m\u001b[0;34m\u001b[0m\u001b[0;34m\u001b[0m\u001b[0m\n\u001b[1;32m      4\u001b[0m \u001b[0mparams\u001b[0m\u001b[0;34m[\u001b[0m\u001b[0;34m'num_leaves'\u001b[0m\u001b[0;34m]\u001b[0m \u001b[0;34m=\u001b[0m \u001b[0mgrid\u001b[0m\u001b[0;34m.\u001b[0m\u001b[0mbest_params_\u001b[0m\u001b[0;34m[\u001b[0m\u001b[0;34m'num_leaves'\u001b[0m\u001b[0;34m]\u001b[0m\u001b[0;34m\u001b[0m\u001b[0;34m\u001b[0m\u001b[0m\n\u001b[1;32m      5\u001b[0m \u001b[0mparams\u001b[0m\u001b[0;34m[\u001b[0m\u001b[0;34m'reg_alpha'\u001b[0m\u001b[0;34m]\u001b[0m \u001b[0;34m=\u001b[0m \u001b[0mgrid\u001b[0m\u001b[0;34m.\u001b[0m\u001b[0mbest_params_\u001b[0m\u001b[0;34m[\u001b[0m\u001b[0;34m'reg_alpha'\u001b[0m\u001b[0;34m]\u001b[0m\u001b[0;34m\u001b[0m\u001b[0;34m\u001b[0m\u001b[0m\n",
            "\u001b[0;31mAttributeError\u001b[0m: 'GridSearchCV' object has no attribute 'best_params_'"
          ]
        }
      ]
    }
  ]
}